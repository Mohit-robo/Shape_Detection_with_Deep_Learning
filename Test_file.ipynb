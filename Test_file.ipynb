{
  "nbformat": 4,
  "nbformat_minor": 5,
  "metadata": {
    "kernelspec": {
      "display_name": "Python 3 (ipykernel)",
      "language": "python",
      "name": "python3"
    },
    "language_info": {
      "codemirror_mode": {
        "name": "ipython",
        "version": 3
      },
      "file_extension": ".py",
      "mimetype": "text/x-python",
      "name": "python",
      "nbconvert_exporter": "python",
      "pygments_lexer": "ipython3",
      "version": "3.8.0"
    },
    "colab": {
      "name": "Test_file.ipynb",
      "provenance": [],
      "collapsed_sections": []
    },
    "accelerator": "GPU"
  },
  "cells": [
    {
      "cell_type": "markdown",
      "metadata": {
        "id": "MhM417TjDlrB"
      },
      "source": [
        "Import all required libraries"
      ],
      "id": "MhM417TjDlrB"
    },
    {
      "cell_type": "code",
      "metadata": {
        "id": "60bcce31"
      },
      "source": [
        "import numpy as np\n",
        "import cv2\n",
        "import pickle\n",
        "from tensorflow.keras.models import load_model\n",
        "import keras.utils\n",
        "from tensorflow.keras.models import Sequential\n",
        "from google.colab.patches import cv2_imshow"
      ],
      "id": "60bcce31",
      "execution_count": null,
      "outputs": []
    },
    {
      "cell_type": "code",
      "metadata": {
        "id": "9a661712"
      },
      "source": [
        "frameWidth= 640         # CAMERA RESOLUTION\n",
        "frameHeight = 480\n",
        "brightness = 180\n",
        "threshold = 0.75         # PROBABLITY THRESHOLD\n",
        "font = cv2.FONT_HERSHEY_SIMPLEX"
      ],
      "id": "9a661712",
      "execution_count": null,
      "outputs": []
    },
    {
      "cell_type": "code",
      "metadata": {
        "colab": {
          "base_uri": "https://localhost:8080/"
        },
        "id": "f3184995",
        "outputId": "b385b394-2cf2-4e09-c124-ca5ee41ae961"
      },
      "source": [
        "cap = cv2.VideoCapture(0)\n",
        "cap.set(3, frameWidth)\n",
        "cap.set(4, frameHeight)\n",
        "cap.set(10, brightness)"
      ],
      "id": "f3184995",
      "execution_count": null,
      "outputs": [
        {
          "output_type": "execute_result",
          "data": {
            "text/plain": [
              "False"
            ]
          },
          "metadata": {},
          "execution_count": 21
        }
      ]
    },
    {
      "cell_type": "code",
      "metadata": {
        "id": "080e807b"
      },
      "source": [
        "model = load_model('/content/drive/MyDrive/Shape_detect/nodel/my_model.h5')"
      ],
      "id": "080e807b",
      "execution_count": null,
      "outputs": []
    },
    {
      "cell_type": "code",
      "metadata": {
        "colab": {
          "base_uri": "https://localhost:8080/"
        },
        "id": "i0slh40eVs-D",
        "outputId": "95b3fc37-4436-467d-a289-9c14e65b536d"
      },
      "source": [
        "from google.colab import drive\n",
        "drive.mount('/content/drive')"
      ],
      "id": "i0slh40eVs-D",
      "execution_count": null,
      "outputs": [
        {
          "output_type": "stream",
          "name": "stdout",
          "text": [
            "Mounted at /content/drive\n"
          ]
        }
      ]
    },
    {
      "cell_type": "code",
      "metadata": {
        "id": "c821a479"
      },
      "source": [
        "def grayscale(img):\n",
        "    img = cv2.cvtColor(img,cv2.COLOR_BGR2GRAY)\n",
        "    return img\n",
        "def equalize(img):\n",
        "    img =cv2.equalizeHist(img)\n",
        "    return img\n",
        "def preprocessing(img):\n",
        "    img = grayscale(img)\n",
        "    img = equalize(img)\n",
        "    img = img/255\n",
        "    return img"
      ],
      "id": "c821a479",
      "execution_count": null,
      "outputs": []
    },
    {
      "cell_type": "code",
      "metadata": {
        "id": "822023ad",
        "colab": {
          "base_uri": "https://localhost:8080/"
        },
        "outputId": "a38df0f1-f83d-437d-ef10-19dce5ca5466"
      },
      "source": [
        "import tensorflow as tf\n",
        "\n",
        "gpus = tf.config.experimental.list_physical_devices('GPU')\n",
        "if gpus:\n",
        "  # Restrict TensorFlow to only allocate 1*X GB of memory on the first GPU\n",
        "  try:\n",
        "    tf.config.experimental.set_virtual_device_configuration(\n",
        "        gpus[0],\n",
        "        [tf.config.experimental.VirtualDeviceConfiguration(memory_limit=(1024*4))])\n",
        "    logical_gpus = tf.config.experimental.list_logical_devices('GPU')\n",
        "    print(len(gpus), \"Physical GPUs,\", len(logical_gpus), \"Logical GPUs\")\n",
        "  except RuntimeError as e:\n",
        "    # Virtual devices must be set before GPUs have been initialized\n",
        "    print(e)"
      ],
      "id": "822023ad",
      "execution_count": null,
      "outputs": [
        {
          "output_type": "stream",
          "name": "stdout",
          "text": [
            "Virtual devices cannot be modified after being initialized\n"
          ]
        }
      ]
    },
    {
      "cell_type": "code",
      "metadata": {
        "id": "f40d890f"
      },
      "source": [
        "# import os\n",
        "\n",
        "# while True:\n",
        "#     _,img_ = cap.read()\n",
        "# #     label = \"\"\n",
        "# #     img = np.asarray(img_)\n",
        "# #     img = cv2.resize(img, (200, 200))\n",
        "# #     img = preprocessing(img)\n",
        "# #     cv2.imshow(\"Processed Image\", img)\n",
        "# #     img = img.reshape(1, 200, 200, 1)\n",
        "# #     cv2.putText(img_, \"CLASS: \" , (20, 35), font, 0.75, (0, 0, 255), 2, cv2.LINE_AA)\n",
        "# #     cv2.putText(img_, \"PROBABILITY: \", (20, 75), font, 0.75, (0, 0, 255), 2, cv2.LINE_AA)\n",
        "    \n",
        "# #     # PREDICT IMAGE\n",
        "# #     pred = model.predict(img)\n",
        "# # #     classIndex = np.round(pred).astype(int)\n",
        "# #     classNo = np.argmax(pred,axis=1)\n",
        "# #     probabilityValue =np.amax(pred)\n",
        "    \n",
        "# #     if   classNo[0] == 0: label ='Circle'\n",
        "# #     elif classNo[0] == 1: label ='Square'\n",
        "# #     elif classNo[0] == 2: label ='Star'\n",
        "# #     elif classNo[0] == 3: label ='Triangle'\n",
        " \n",
        "# #     if probabilityValue > threshold:\n",
        "# # #         print(classNo)\n",
        "# #         cv2.putText(img_,str(label), (120, 35), font, 0.75, (0, 0, 255), 2, cv2.LINE_AA)\n",
        "# #         cv2.putText(img_, str(round(probabilityValue*100,2) )+\"%\", (180, 75), font, 0.75, (0, 0, 255), 2, cv2.LINE_AA)\n",
        "#         # cv2.imshow(\"Result\", img_)\n",
        "#     cv2_imshow(img_)\n",
        "#     # cv2.imshow(\"Result\", img)\n",
        "#     if cv2.waitKey(1) and 0xFF == ord('q'):\n",
        "#         break"
      ],
      "id": "f40d890f",
      "execution_count": null,
      "outputs": []
    },
    {
      "cell_type": "code",
      "metadata": {
        "colab": {
          "base_uri": "https://localhost:8080/",
          "height": 199
        },
        "id": "d55242f6",
        "outputId": "ae9af8a8-376c-409d-ee52-4435e2f2b825"
      },
      "source": [
        "import os\n",
        "\n",
        "img_ = cv2.imread('/content/drive/MyDrive/Shape_detect/angry_bird.png')\n",
        "label = \"\"\n",
        "img = np.asarray(img_)\n",
        "img = cv2.resize(img, (200, 200))\n",
        "img = preprocessing(img)\n",
        "# cv2.imshow(\"Processed Image\", img)\n",
        "img = img.reshape(1, 200, 200, 1)\n",
        "cv2.putText(img_, \"CLASS: \" , (20, 35), font, 0.75, (0, 0, 255), 2, cv2.LINE_AA)\n",
        "cv2.putText(img_, \"PROBABILITY: \", (20, 75), font, 0.75, (0, 0, 255), 2, cv2.LINE_AA)\n",
        "\n",
        "pred = model.predict(img)\n",
        "#     classIndex = np.round(pred).astype(int)\n",
        "classNo = np.argmax(pred,axis=1)\n",
        "probabilityValue =np.amax(pred)\n",
        "\n",
        "if   classNo[0] == 0: label ='Circle'\n",
        "elif classNo[0] == 1: label ='Square'\n",
        "elif classNo[0] == 2: label ='Star'\n",
        "elif classNo[0] == 3: label ='AngryBird'\n",
        "\n",
        "if probabilityValue > threshold:\n",
        "#         print(classNo)\n",
        "    cv2.putText(img_,str(label), (120, 35), font, 0.75, (0, 0, 255), 2, cv2.LINE_AA)\n",
        "    cv2.putText(img_, str(round(probabilityValue*100,2) )+\"%\", (180, 75), font, 0.75, (0, 0, 255), 2, cv2.LINE_AA)\n",
        "\n",
        "cv2_imshow(img_)\n",
        "\n",
        "\"\"\"\n",
        "Just by changing the label name in the code you can turn it into object detection by taking objects that are shapes that we have trained our model to detect.\n",
        "\n",
        "\"\"\""
      ],
      "id": "d55242f6",
      "execution_count": null,
      "outputs": [
        {
          "output_type": "display_data",
          "data": {
            "image/png": "[encoded data removed]",
            "text/plain": [
              "<PIL.Image.Image image mode=RGB size=310x163 at 0x7F9B0F070A10>"
            ]
          },
          "metadata": {}
        },
        {
          "output_type": "execute_result",
          "data": {
            "application/vnd.google.colaboratory.intrinsic+json": {
              "type": "string"
            },
            "text/plain": [
              "'\\nJust by changing the label name in the code you can turn it into object detection by taking objects that are shapes that we have trained our model to detect.\\n\\n'"
            ]
          },
          "metadata": {},
          "execution_count": 25
        }
      ]
    },
    {
      "cell_type": "code",
      "metadata": {
        "id": "RrtYoWi_b1o3"
      },
      "source": [
        "cap = cv2.VideoCapture(0)\n",
        "while True:\n",
        "  _,img = cap.read()\n",
        "  \n",
        "  cv2_imshow(img)\n",
        "  cv2.waitkey(0)\n",
        "  cv2.destroyAllWindows()"
      ],
      "id": "RrtYoWi_b1o3",
      "execution_count": null,
      "outputs": []
    },
    {
      "cell_type": "code",
      "metadata": {
        "id": "LJNsLzymf4zT"
      },
      "source": [
        ""
      ],
      "id": "LJNsLzymf4zT",
      "execution_count": null,
      "outputs": []
    }
  ]
}